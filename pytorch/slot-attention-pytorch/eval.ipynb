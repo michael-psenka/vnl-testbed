{
 "cells": [
  {
   "cell_type": "code",
   "execution_count": 7,
   "metadata": {},
   "outputs": [],
   "source": [
    "from dataset import *\n",
    "from model import *\n",
    "import torch\n",
    "import numpy as np"
   ]
  },
  {
   "cell_type": "code",
   "execution_count": 8,
   "metadata": {},
   "outputs": [],
   "source": [
    "# Hyperparameters.\n",
    "seed = 0\n",
    "batch_size = 1  # wondering trained on some fixed slot makes difference\n",
    "num_slots = 10\n",
    "num_iterations = 3\n",
    "resolution = (128, 128)"
   ]
  },
  {
   "cell_type": "code",
   "execution_count": 9,
   "metadata": {},
   "outputs": [
    {
     "data": {
      "text/plain": [
       "<All keys matched successfully>"
      ]
     },
     "execution_count": 9,
     "metadata": {},
     "output_type": "execute_result"
    }
   ],
   "source": [
    "resolution = (128, 128)\n",
    "model = SlotAttentionAutoEncoder(resolution, num_slots, num_iterations, 64)\n",
    "model_path = \"/shared/rzhang/slot_att/results/007-objects-all-slots-7.ckpt\"\n",
    "model.load_state_dict(torch.load(model_path)[\"model_state_dict\"])"
   ]
  },
  {
   "cell_type": "code",
   "execution_count": 10,
   "metadata": {},
   "outputs": [],
   "source": [
    "test_set = CLEVR(\"test\")"
   ]
  },
  {
   "cell_type": "code",
   "execution_count": 11,
   "metadata": {},
   "outputs": [
    {
     "name": "stdout",
     "output_type": "stream",
     "text": [
      "torch.Size([3, 128, 128])\n"
     ]
    }
   ],
   "source": [
    "model = model.to(device)\n",
    "image = test_set[4][\"image\"]\n",
    "print(image.shape)\n",
    "image = image.unsqueeze(0).to(device)\n",
    "# recon_combined, recons, masks, slots = model(image)\n",
    "# print(recon_combined.shape)"
   ]
  },
  {
   "cell_type": "code",
   "execution_count": 12,
   "metadata": {},
   "outputs": [],
   "source": [
    "# # Calculate the number of slots through spectral decomposition\n",
    "# #  highest eigenvalue is a hyperparam, we assume all objects are smaller than it.\n",
    "# largest_eigenvalue = 5000\n",
    "# z = model.encode(image)\n",
    "# z = z.squeeze(0)\n",
    "# U, eigenvalues, eigenvectors = torch.pca_lowrank(z, q=64)  # Eva x D, Eve x D\n",
    "# eigenvalues = torch.floor(eigenvalues)\n",
    "# num_slots = torch.sum(torch.ceil(eigenvalues / largest_eigenvalue))"
   ]
  },
  {
   "cell_type": "code",
   "execution_count": 13,
   "metadata": {},
   "outputs": [],
   "source": [
    "# import matplotlib.pyplot as plt\n",
    "# from sklearn.cluster import AgglomerativeClustering\n",
    "\n",
    "# n_clusters = 9\n",
    "# # Process after slot attention and before decoder\n",
    "# z = model.encode(image)\n",
    "# slots = model.slot_att(z)\n",
    "# # slots = slots.squeeze(0)\n",
    "# # cluster_means = model.slot_merge(slots, n_clusters)\n",
    "# recon_combined, recons, masks, slots = model.decode(slots, 1)\n",
    "# recon_combined = recon_combined.squeeze(0)\n",
    "# image = image.squeeze(0)\n",
    "# recons = recons.squeeze(0)\n",
    "# masks = masks.squeeze(0)\n",
    "# image = image.permute(1, 2, 0).cpu().numpy()\n",
    "# recon_combined = recon_combined.permute(1, 2, 0)\n",
    "# recon_combined = recon_combined.cpu().detach().numpy()\n",
    "# recons = recons.cpu().detach().numpy()\n",
    "# masks = masks.cpu().detach().numpy()\n",
    "# fig, ax = plt.subplots(1, n_clusters + 1, figsize=(15, 2))\n",
    "# ax[0].imshow(image)\n",
    "# ax[0].set_title(\"Image\")\n",
    "# # ax[1].imshow(recon_combined)\n",
    "# # ax[1].set_title(\"Recon.\")\n",
    "# for i in range(n_clusters):\n",
    "#     picture = recons[i] * masks[i] + (1 - masks[i])\n",
    "#     ax[i + 1].imshow(picture)\n",
    "#     ax[i + 1].set_title(\"Slot %s\" % str(i + 1))\n",
    "# for i in range(len(ax)):\n",
    "#     ax[i].grid(False)\n",
    "#     ax[i].axis(\"off\")"
   ]
  },
  {
   "cell_type": "code",
   "execution_count": 14,
   "metadata": {},
   "outputs": [],
   "source": [
    "model = model.to(device)\n",
    "image = test_set[4][\"image\"]\n",
    "image = image.unsqueeze(0).to(device)\n",
    "recon_combined, recons, masks, slots = model(image)\n",
    "print(recon_combined.shape)"
   ]
  },
  {
   "cell_type": "code",
   "execution_count": null,
   "metadata": {},
   "outputs": [],
   "source": [
    "import matplotlib.pyplot as plt\n",
    "from PIL import Image as Image, ImageEnhance\n",
    "\n",
    "fig, ax = plt.subplots(1, num_slots + 2, figsize=(15, 2))\n",
    "image = image.squeeze(0)\n",
    "recon_combined = recon_combined.squeeze(0)\n",
    "recons = recons.squeeze(0)\n",
    "masks = masks.squeeze(0)\n",
    "image = image.permute(1, 2, 0).cpu().numpy()\n",
    "recon_combined = recon_combined.permute(1, 2, 0)\n",
    "recon_combined = recon_combined.cpu().detach().numpy()\n",
    "recons = recons.cpu().detach().numpy()\n",
    "masks = masks.cpu().detach().numpy()\n",
    "ax[0].imshow(image)\n",
    "ax[0].set_title(\"Image\")\n",
    "ax[1].imshow(recon_combined)\n",
    "ax[1].set_title(\"Recon.\")\n",
    "print(recons.shape)\n",
    "for i in range(num_slots):\n",
    "    picture = recons[i] * masks[i] + (1 - masks[i])\n",
    "    print(picture.shape)\n",
    "    ax[i + 2].imshow(picture)\n",
    "    ax[i + 2].set_title(\"Slot %s\" % str(i + 1))\n",
    "for i in range(len(ax)):\n",
    "    ax[i].grid(False)\n",
    "    ax[i].axis(\"off\")"
   ]
  },
  {
   "cell_type": "code",
   "execution_count": null,
   "metadata": {},
   "outputs": [],
   "source": [
    "print(recons.shape)"
   ]
  },
  {
   "cell_type": "code",
   "execution_count": null,
   "metadata": {},
   "outputs": [],
   "source": [
    "# recursively extract background\n",
    "num_slots = 2\n",
    "model = SlotAttentionAutoEncoder(resolution, num_slots, num_iterations, 64)\n",
    "model.load_state_dict(torch.load(model_path)[\"model_state_dict\"])\n",
    "print(recons.shape)"
   ]
  },
  {
   "cell_type": "code",
   "execution_count": null,
   "metadata": {},
   "outputs": [],
   "source": [
    "model = model.to(device)\n",
    "# Insert the background blended image\n",
    "# recons = recons.squeeze(0)\n",
    "print(recons.shape)\n",
    "i = 4\n",
    "image1 = recons[i] * masks[i] + (1 - masks[i])\n",
    "orig_image = image1\n",
    "print(recons.shape)\n",
    "plt.imshow(image1)\n",
    "print(image1.shape)\n",
    "image1 = torch.tensor(image1).unsqueeze(0).to(device)\n",
    "image1 = torch.reshape(image1, (1, 3, 128, 128))\n",
    "recon_combined, recons1, masks1, slots = model(image1)\n",
    "print(recon_combined.shape)"
   ]
  },
  {
   "cell_type": "code",
   "execution_count": null,
   "metadata": {},
   "outputs": [],
   "source": [
    "import matplotlib.pyplot as plt\n",
    "from PIL import Image as Image, ImageEnhance\n",
    "\n",
    "fig, ax = plt.subplots(1, num_slots + 2, figsize=(15, 2))\n",
    "recon_combined = recon_combined.squeeze(0)\n",
    "recons1 = recons1.squeeze(0)\n",
    "masks1 = masks1.squeeze(0)\n",
    "recon_combined = recon_combined.permute(1, 2, 0)\n",
    "recon_combined = recon_combined.cpu().detach().numpy()\n",
    "recons1 = recons1.cpu().detach().numpy()\n",
    "masks1 = masks1.cpu().detach().numpy()\n",
    "ax[0].imshow(orig_image)\n",
    "ax[0].set_title(\"Image\")\n",
    "ax[1].imshow(recon_combined)\n",
    "ax[1].set_title(\"Recon.\")\n",
    "for i in range(num_slots):\n",
    "    picture = recons[i] * masks1[i] + (1 - masks1[i])\n",
    "    ax[i + 2].imshow(picture)\n",
    "    ax[i + 2].set_title(\"Slot %s\" % str(i + 1))\n",
    "for i in range(len(ax)):\n",
    "    ax[i].grid(False)\n",
    "    ax[i].axis(\"off\")"
   ]
  }
 ],
 "metadata": {
  "kernelspec": {
   "display_name": "Python 3",
   "language": "python",
   "name": "python3"
  },
  "language_info": {
   "codemirror_mode": {
    "name": "ipython",
    "version": 3
   },
   "file_extension": ".py",
   "mimetype": "text/x-python",
   "name": "python",
   "nbconvert_exporter": "python",
   "pygments_lexer": "ipython3",
   "version": "3.9.18"
  }
 },
 "nbformat": 4,
 "nbformat_minor": 4
}
